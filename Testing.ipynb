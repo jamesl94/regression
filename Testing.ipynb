{
 "cells": [
  {
   "cell_type": "markdown",
   "metadata": {},
   "source": [
    "# Testing the accuracy of the fit"
   ]
  },
  {
   "cell_type": "code",
   "execution_count": 1,
   "metadata": {
    "collapsed": false
   },
   "outputs": [],
   "source": [
    "%%capture\n",
    "%run FittingExercise.ipynb"
   ]
  },
  {
   "cell_type": "code",
   "execution_count": 2,
   "metadata": {
    "collapsed": false
   },
   "outputs": [
    {
     "name": "stdout",
     "output_type": "stream",
     "text": [
      "starting_guess = ParameterSet(logA=6.0, Ea=45.0, dH=-10.0, dS=-50.0)\n",
      "optimized_parameters = ParameterSet(logA=0, Ea=0, dH=0, dS=0)\n",
      "standard_errors = ParameterSet(logA=0, Ea=0, dH=0, dS=0)\n",
      "How many 'standard errors' from the true value was the optimized value?:\n",
      "logA -inf\n",
      "Ea -inf\n",
      "dH inf\n",
      "dS inf\n"
     ]
    },
    {
     "name": "stderr",
     "output_type": "stream",
     "text": [
      "//anaconda/envs/snakes/lib/python3.5/site-packages/ipykernel/__main__.py:12: RuntimeWarning: divide by zero encountered in true_divide\n"
     ]
    }
   ],
   "source": [
    "true_params = ParameterSet(6.9, # logA in mol/L/s\n",
    "                49., # Ea kJ/mol\n",
    "                -13., # ∆H kJ/mol\n",
    "                -42.# ∆S J/mol/K\n",
    "                )\n",
    "\n",
    "print(\"starting_guess =\", starting_guess)\n",
    "print(\"optimized_parameters =\", optimized_parameters)\n",
    "print(\"standard_errors =\",standard_errors)\n",
    "\n",
    "print(\"How many 'standard errors' from the true value was the optimized value?:\")\n",
    "discrepancy = (array(optimized_parameters) - array(true_params)) / array(standard_errors)\n",
    "discrepancy = ParameterSet(*discrepancy)\n",
    "for key,value in discrepancy._asdict().items():\n",
    "    print(key,value)"
   ]
  },
  {
   "cell_type": "markdown",
   "metadata": {},
   "source": [
    "Use Pandas to quickly format the output nicely in a table"
   ]
  },
  {
   "cell_type": "code",
   "execution_count": 3,
   "metadata": {
    "collapsed": false
   },
   "outputs": [
    {
     "data": {
      "text/html": [
       "<div>\n",
       "<table border=\"1\" class=\"dataframe\">\n",
       "  <thead>\n",
       "    <tr style=\"text-align: right;\">\n",
       "      <th></th>\n",
       "      <th>logA</th>\n",
       "      <th>Ea</th>\n",
       "      <th>dH</th>\n",
       "      <th>dS</th>\n",
       "    </tr>\n",
       "  </thead>\n",
       "  <tbody>\n",
       "    <tr>\n",
       "      <th>starting_guess</th>\n",
       "      <td>6.000000</td>\n",
       "      <td>45.000000</td>\n",
       "      <td>-10.000000</td>\n",
       "      <td>-50.000000</td>\n",
       "    </tr>\n",
       "    <tr>\n",
       "      <th>true_params</th>\n",
       "      <td>6.900000</td>\n",
       "      <td>49.000000</td>\n",
       "      <td>-13.000000</td>\n",
       "      <td>-42.000000</td>\n",
       "    </tr>\n",
       "    <tr>\n",
       "      <th>optimized_parameters</th>\n",
       "      <td>0.000000</td>\n",
       "      <td>0.000000</td>\n",
       "      <td>0.000000</td>\n",
       "      <td>0.000000</td>\n",
       "    </tr>\n",
       "    <tr>\n",
       "      <th>standard_errors</th>\n",
       "      <td>0.000000</td>\n",
       "      <td>0.000000</td>\n",
       "      <td>0.000000</td>\n",
       "      <td>0.000000</td>\n",
       "    </tr>\n",
       "    <tr>\n",
       "      <th>discrepancy</th>\n",
       "      <td>-inf</td>\n",
       "      <td>-inf</td>\n",
       "      <td>inf</td>\n",
       "      <td>inf</td>\n",
       "    </tr>\n",
       "  </tbody>\n",
       "</table>\n",
       "</div>"
      ],
      "text/plain": [
       "                          logA         Ea         dH         dS\n",
       "starting_guess        6.000000  45.000000 -10.000000 -50.000000\n",
       "true_params           6.900000  49.000000 -13.000000 -42.000000\n",
       "optimized_parameters  0.000000   0.000000   0.000000   0.000000\n",
       "standard_errors       0.000000   0.000000   0.000000   0.000000\n",
       "discrepancy               -inf       -inf        inf        inf"
      ]
     },
     "execution_count": 3,
     "metadata": {},
     "output_type": "execute_result"
    }
   ],
   "source": [
    "import pandas as pd\n",
    "pd.DataFrame([starting_guess,true_params,optimized_parameters,standard_errors,discrepancy],\n",
    "             columns=starting_guess._fields,\n",
    "             index=['starting_guess','true_params','optimized_parameters','standard_errors','discrepancy'])"
   ]
  },
  {
   "cell_type": "markdown",
   "metadata": {},
   "source": [
    "Hopefully the discrepancies (actual error divided by reported standard error $\\sigma$) are all within $\\pm$ 2 (i.e. $|{\\epsilon}|<2\\sigma$)"
   ]
  },
  {
   "cell_type": "code",
   "execution_count": null,
   "metadata": {
    "collapsed": true
   },
   "outputs": [],
   "source": []
  }
 ],
 "metadata": {
  "anaconda-cloud": {},
  "kernelspec": {
   "display_name": "Python [conda env:snakes]",
   "language": "python",
   "name": "conda-env-snakes-py"
  },
  "language_info": {
   "codemirror_mode": {
    "name": "ipython",
    "version": 3
   },
   "file_extension": ".py",
   "mimetype": "text/x-python",
   "name": "python",
   "nbconvert_exporter": "python",
   "pygments_lexer": "ipython3",
   "version": "3.5.2"
  }
 },
 "nbformat": 4,
 "nbformat_minor": 1
}
